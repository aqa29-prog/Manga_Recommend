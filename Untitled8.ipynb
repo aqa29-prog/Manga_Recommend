{
  "nbformat": 4,
  "nbformat_minor": 0,
  "metadata": {
    "colab": {
      "name": "Untitled8.ipynb",
      "provenance": [],
      "collapsed_sections": [],
      "authorship_tag": "ABX9TyPHVGrvM66maBvymZ3b1aq/",
      "include_colab_link": true
    },
    "kernelspec": {
      "name": "python3",
      "display_name": "Python 3"
    },
    "language_info": {
      "name": "python"
    }
  },
  "cells": [
    {
      "cell_type": "markdown",
      "metadata": {
        "id": "view-in-github",
        "colab_type": "text"
      },
      "source": [
        "<a href=\"https://colab.research.google.com/github/aqa29-prog/Manga_Recommend/blob/master/Untitled8.ipynb\" target=\"_parent\"><img src=\"https://colab.research.google.com/assets/colab-badge.svg\" alt=\"Open In Colab\"/></a>"
      ]
    },
    {
      "cell_type": "code",
      "metadata": {
        "id": "WQaIWIdChhb7"
      },
      "source": [
        "# ライブラリ「TensorFlow」のtensorflowパッケージを「tf」という別名でインポート\n",
        "import tensorflow as tf\n",
        "# ライブラリ「NumPy」のnumpyパッケージを「np」という別名でインポート\n",
        "import numpy as np\n",
        "\n",
        "# 定数（モデル定義時に必要となる数値）\n",
        "INPUT_FEATURES = 2      # 入力（特徴）の数： 2ｘ\n",
        "LAYER1_NEURONS = 3      # ニューロンの数： 3\n",
        "LAYER2_NEURONS = 3      # ニューロンの数： 3\n",
        "OUTPUT_RESULTS = 1      # 出力結果の数： 1\n",
        "ACTIVATION = 'sigmoid'  # 活性化関数（ここを書き換える）： シグモイド関数\n",
        "\n",
        "# 積層型のモデルの定義\n",
        "model = tf.keras.models.Sequential([\n",
        "  # 隠れ層：1つ目のレイヤー\n",
        "  tf.keras.layers.Dense(\n",
        "    input_shape=(INPUT_FEATURES,),       # 入力の形状（＝入力層）\n",
        "    units=LAYER1_NEURONS,                # ユニットの数\n",
        "    activation=ACTIVATION),              # 活性化関数\n",
        "  # 隠れ層：2つ目のレイヤー\n",
        "  tf.keras.layers.Dense(\n",
        "    units=LAYER2_NEURONS,                # ユニットの数\n",
        "    activation=ACTIVATION),              # 活性化関数\n",
        "  # 出力層\n",
        "  tf.keras.layers.Dense(\n",
        "    units=OUTPUT_RESULTS,                # ユニットの数\n",
        "    activation='tanh'),                  # 活性化関数\n",
        "])"
      ],
      "execution_count": 2,
      "outputs": []
    },
    {
      "cell_type": "code",
      "metadata": {
        "id": "RegYu4OVjIVT"
      },
      "source": [
        "# （必要に応じて）TensorFlow v2の最新バージョンにアップグレードする必要がある\n",
        "#!pip install --upgrade tensorflow\n",
        "# ライブラリ「TensorFlow」のtensorflowパッケージを「tf」という別名でインポート\n",
        "import tensorflow as tf\n",
        "\n",
        "# 定数（学習方法設計時に必要となるもの）\n",
        "OPTIMIZER = tf.keras.optimizers.SGD  # 最適化：確率的勾配降下法"
      ],
      "execution_count": 3,
      "outputs": []
    },
    {
      "cell_type": "code",
      "metadata": {
        "id": "HQeHhDItjQta"
      },
      "source": [
        "import tensorflow.keras.backend as K\n",
        "\n",
        "def tanh_accuracy(y_true, y_pred):           # y_trueは正解、y_predは予測（出力）\n",
        "  threshold = K.cast(0.0, y_pred.dtype)              # -1か1かを分ける閾値を作成\n",
        "  y_pred = K.cast(y_pred >= threshold, y_pred.dtype) # 閾値未満で0、以上で1に変換\n",
        "  # 2倍して-1.0することで、0／1を-1.0／1.0にスケール変換して正解率を計算\n",
        "  return K.mean(K.equal(y_true, y_pred * 2 - 1.0), axis=-1)"
      ],
      "execution_count": 4,
      "outputs": []
    },
    {
      "cell_type": "code",
      "source": [
        "# 定数（学習方法設計時に必要となるもの）\n",
        "LOSS = 'mean_squared_error'          # 損失関数： 平均二乗誤差\n",
        "OPTIMIZER = tf.keras.optimizers.SGD  # 最適化： 確率的勾配降下法\n",
        "LEARNING_RATE = 0.03                  # 学習率： 0.03\n",
        "\n",
        "# モデルを生成する\n",
        "model.compile(optimizer=OPTIMIZER(learning_rate=LEARNING_RATE),\n",
        "              loss=LOSS,\n",
        "              metrics=[tanh_accuracy])  # 精度（正解率）"
      ],
      "metadata": {
        "id": "-QLMx9keujvy"
      },
      "execution_count": 5,
      "outputs": []
    },
    {
      "cell_type": "code",
      "metadata": {
        "id": "1jsbuA5ljUUC"
      },
      "source": [
        "# （必要に応じて）座標点データを生成するライブラリをインストールする必要がある\n",
        "# !pip install playground-data\n",
        "\n",
        "# playground-dataライブラリのplygdataパッケージを「pg」という別名でインポート\n",
        "import plygdata as pg\n",
        "\n",
        "# 問題種別で「分類（Classification）」を選択し、\n",
        "# データ種別で「2つのガウシアンデータ（TwoGaussData）」を選択する場合の、\n",
        "# 設定値を定数として定義\n",
        "PROBLEM_DATA_TYPE = pg.DatasetType.ClassifyTwoGaussData\n",
        "\n",
        "# 各種設定を定数として定義\n",
        "TRAINING_DATA_RATIO = 0.5  # データの何％を訓練【Training】用に？ (残りは精度検証【Validation】用) ： 50％\n",
        "DATA_NOISE = 0.0           # ノイズ： 0％\n",
        "\n",
        "# 定義済みの定数を引数に指定して、データを生成する\n",
        "data_list = pg.generate_data(PROBLEM_DATA_TYPE, DATA_NOISE)\n",
        "\n",
        "# データを「訓練用」と「精度検証用」を指定の比率で分割し、さらにそれぞれを「データ（X）」と「教師ラベル（y）」に分ける\n",
        "X_train, y_train, X_valid, y_valid = pg.split_data(data_list, training_size=TRAINING_DATA_RATIO)"
      ],
      "execution_count": 8,
      "outputs": []
    },
    {
      "cell_type": "code",
      "metadata": {
        "colab": {
          "base_uri": "https://localhost:8080/"
        },
        "id": "lerthOYsndkX",
        "outputId": "b5c3d7aa-5b9c-4722-cabb-21d7d6dbb536"
      },
      "source": [
        "# それぞれ5件ずつ出力\n",
        "print('X_train:'); print(X_train[:5])\n",
        "print('y_train:'); print(y_train[:5])\n",
        "print('X_valid:'); print(X_valid[:5])\n",
        "print('y_valid:'); print(y_valid[:5])"
      ],
      "execution_count": null,
      "outputs": [
        {
          "output_type": "stream",
          "name": "stdout",
          "text": [
            "X_train:\n",
            "[[ 2.03595277  1.62168018]\n",
            " [-2.7755656  -2.78414129]\n",
            " [-1.86000865 -1.55093408]\n",
            " [-1.80458884 -1.21491515]\n",
            " [ 2.08768566  1.53263633]]\n",
            "y_train:\n",
            "[[ 1.]\n",
            " [-1.]\n",
            " [-1.]\n",
            " [-1.]\n",
            " [ 1.]]\n",
            "X_valid:\n",
            "[[ 1.49400819  2.03666782]\n",
            " [ 2.08599076  2.68625456]\n",
            " [-1.87266163 -1.81145587]\n",
            " [-2.09439901 -2.04718014]\n",
            " [ 2.72207574  2.15050761]]\n",
            "y_valid:\n",
            "[[ 1.]\n",
            " [ 1.]\n",
            " [-1.]\n",
            " [-1.]\n",
            " [ 1.]]\n"
          ]
        }
      ]
    },
    {
      "cell_type": "code",
      "metadata": {
        "colab": {
          "base_uri": "https://localhost:8080/"
        },
        "id": "jic5PPNYniq-",
        "outputId": "904554ec-fd2b-43e9-b399-1a25b15f8549"
      },
      "source": [
        "# 定数（学習方法設計時に必要となるもの）\n",
        "BATCH_SIZE = 15  # バッチサイズ： 15（選択肢は「1」～「30」）\n",
        "EPOCHS = 100     # エポック数： 100\n",
        "\n",
        "# 学習する\n",
        "hist = model.fit(x=X_train,                          # 訓練用データ\n",
        "                 y=y_train,                          # 訓練用ラベル\n",
        "                 validation_data=(X_valid, y_valid), # 精度検証用\n",
        "                 batch_size=BATCH_SIZE,              # バッチサイズ\n",
        "                 epochs=EPOCHS,                      # エポック数\n",
        "                 verbose=1)                          # 実行状況表示"
      ],
      "execution_count": 9,
      "outputs": [
        {
          "output_type": "stream",
          "name": "stdout",
          "text": [
            "Epoch 1/100\n",
            "17/17 [==============================] - 1s 17ms/step - loss: 0.9284 - tanh_accuracy: 0.5000 - val_loss: 0.9034 - val_tanh_accuracy: 0.9880\n",
            "Epoch 2/100\n",
            "17/17 [==============================] - 0s 4ms/step - loss: 0.8910 - tanh_accuracy: 0.8600 - val_loss: 0.8647 - val_tanh_accuracy: 1.0000\n",
            "Epoch 3/100\n",
            "17/17 [==============================] - 0s 4ms/step - loss: 0.8501 - tanh_accuracy: 0.9960 - val_loss: 0.8217 - val_tanh_accuracy: 1.0000\n",
            "Epoch 4/100\n",
            "17/17 [==============================] - 0s 6ms/step - loss: 0.8051 - tanh_accuracy: 0.9960 - val_loss: 0.7745 - val_tanh_accuracy: 1.0000\n",
            "Epoch 5/100\n",
            "17/17 [==============================] - 0s 3ms/step - loss: 0.7593 - tanh_accuracy: 0.9960 - val_loss: 0.7233 - val_tanh_accuracy: 1.0000\n",
            "Epoch 6/100\n",
            "17/17 [==============================] - 0s 4ms/step - loss: 0.7030 - tanh_accuracy: 1.0000 - val_loss: 0.6647 - val_tanh_accuracy: 1.0000\n",
            "Epoch 7/100\n",
            "17/17 [==============================] - 0s 4ms/step - loss: 0.6431 - tanh_accuracy: 1.0000 - val_loss: 0.6036 - val_tanh_accuracy: 1.0000\n",
            "Epoch 8/100\n",
            "17/17 [==============================] - 0s 4ms/step - loss: 0.5809 - tanh_accuracy: 1.0000 - val_loss: 0.5390 - val_tanh_accuracy: 1.0000\n",
            "Epoch 9/100\n",
            "17/17 [==============================] - 0s 7ms/step - loss: 0.5148 - tanh_accuracy: 1.0000 - val_loss: 0.4746 - val_tanh_accuracy: 1.0000\n",
            "Epoch 10/100\n",
            "17/17 [==============================] - 0s 4ms/step - loss: 0.4518 - tanh_accuracy: 1.0000 - val_loss: 0.4129 - val_tanh_accuracy: 1.0000\n",
            "Epoch 11/100\n",
            "17/17 [==============================] - 0s 4ms/step - loss: 0.3921 - tanh_accuracy: 1.0000 - val_loss: 0.3548 - val_tanh_accuracy: 1.0000\n",
            "Epoch 12/100\n",
            "17/17 [==============================] - 0s 4ms/step - loss: 0.3367 - tanh_accuracy: 1.0000 - val_loss: 0.3033 - val_tanh_accuracy: 1.0000\n",
            "Epoch 13/100\n",
            "17/17 [==============================] - 0s 4ms/step - loss: 0.2880 - tanh_accuracy: 1.0000 - val_loss: 0.2588 - val_tanh_accuracy: 1.0000\n",
            "Epoch 14/100\n",
            "17/17 [==============================] - 0s 4ms/step - loss: 0.2466 - tanh_accuracy: 1.0000 - val_loss: 0.2214 - val_tanh_accuracy: 1.0000\n",
            "Epoch 15/100\n",
            "17/17 [==============================] - 0s 4ms/step - loss: 0.2112 - tanh_accuracy: 1.0000 - val_loss: 0.1903 - val_tanh_accuracy: 1.0000\n",
            "Epoch 16/100\n",
            "17/17 [==============================] - 0s 4ms/step - loss: 0.1825 - tanh_accuracy: 1.0000 - val_loss: 0.1646 - val_tanh_accuracy: 1.0000\n",
            "Epoch 17/100\n",
            "17/17 [==============================] - 0s 4ms/step - loss: 0.1587 - tanh_accuracy: 1.0000 - val_loss: 0.1432 - val_tanh_accuracy: 1.0000\n",
            "Epoch 18/100\n",
            "17/17 [==============================] - 0s 4ms/step - loss: 0.1386 - tanh_accuracy: 1.0000 - val_loss: 0.1256 - val_tanh_accuracy: 1.0000\n",
            "Epoch 19/100\n",
            "17/17 [==============================] - 0s 4ms/step - loss: 0.1222 - tanh_accuracy: 1.0000 - val_loss: 0.1110 - val_tanh_accuracy: 1.0000\n",
            "Epoch 20/100\n",
            "17/17 [==============================] - 0s 4ms/step - loss: 0.1087 - tanh_accuracy: 1.0000 - val_loss: 0.0988 - val_tanh_accuracy: 1.0000\n",
            "Epoch 21/100\n",
            "17/17 [==============================] - 0s 4ms/step - loss: 0.0970 - tanh_accuracy: 1.0000 - val_loss: 0.0884 - val_tanh_accuracy: 1.0000\n",
            "Epoch 22/100\n",
            "17/17 [==============================] - 0s 4ms/step - loss: 0.0873 - tanh_accuracy: 1.0000 - val_loss: 0.0797 - val_tanh_accuracy: 1.0000\n",
            "Epoch 23/100\n",
            "17/17 [==============================] - 0s 4ms/step - loss: 0.0790 - tanh_accuracy: 1.0000 - val_loss: 0.0723 - val_tanh_accuracy: 1.0000\n",
            "Epoch 24/100\n",
            "17/17 [==============================] - 0s 4ms/step - loss: 0.0719 - tanh_accuracy: 1.0000 - val_loss: 0.0659 - val_tanh_accuracy: 1.0000\n",
            "Epoch 25/100\n",
            "17/17 [==============================] - 0s 4ms/step - loss: 0.0658 - tanh_accuracy: 1.0000 - val_loss: 0.0604 - val_tanh_accuracy: 1.0000\n",
            "Epoch 26/100\n",
            "17/17 [==============================] - 0s 4ms/step - loss: 0.0605 - tanh_accuracy: 1.0000 - val_loss: 0.0556 - val_tanh_accuracy: 1.0000\n",
            "Epoch 27/100\n",
            "17/17 [==============================] - 0s 4ms/step - loss: 0.0558 - tanh_accuracy: 1.0000 - val_loss: 0.0514 - val_tanh_accuracy: 1.0000\n",
            "Epoch 28/100\n",
            "17/17 [==============================] - 0s 4ms/step - loss: 0.0517 - tanh_accuracy: 1.0000 - val_loss: 0.0477 - val_tanh_accuracy: 1.0000\n",
            "Epoch 29/100\n",
            "17/17 [==============================] - 0s 4ms/step - loss: 0.0481 - tanh_accuracy: 1.0000 - val_loss: 0.0444 - val_tanh_accuracy: 1.0000\n",
            "Epoch 30/100\n",
            "17/17 [==============================] - 0s 4ms/step - loss: 0.0450 - tanh_accuracy: 1.0000 - val_loss: 0.0415 - val_tanh_accuracy: 1.0000\n",
            "Epoch 31/100\n",
            "17/17 [==============================] - 0s 4ms/step - loss: 0.0421 - tanh_accuracy: 1.0000 - val_loss: 0.0389 - val_tanh_accuracy: 1.0000\n",
            "Epoch 32/100\n",
            "17/17 [==============================] - 0s 4ms/step - loss: 0.0395 - tanh_accuracy: 1.0000 - val_loss: 0.0366 - val_tanh_accuracy: 1.0000\n",
            "Epoch 33/100\n",
            "17/17 [==============================] - 0s 4ms/step - loss: 0.0372 - tanh_accuracy: 1.0000 - val_loss: 0.0345 - val_tanh_accuracy: 1.0000\n",
            "Epoch 34/100\n",
            "17/17 [==============================] - 0s 4ms/step - loss: 0.0352 - tanh_accuracy: 1.0000 - val_loss: 0.0325 - val_tanh_accuracy: 1.0000\n",
            "Epoch 35/100\n",
            "17/17 [==============================] - 0s 4ms/step - loss: 0.0333 - tanh_accuracy: 1.0000 - val_loss: 0.0308 - val_tanh_accuracy: 1.0000\n",
            "Epoch 36/100\n",
            "17/17 [==============================] - 0s 4ms/step - loss: 0.0316 - tanh_accuracy: 1.0000 - val_loss: 0.0292 - val_tanh_accuracy: 1.0000\n",
            "Epoch 37/100\n",
            "17/17 [==============================] - 0s 5ms/step - loss: 0.0300 - tanh_accuracy: 1.0000 - val_loss: 0.0278 - val_tanh_accuracy: 1.0000\n",
            "Epoch 38/100\n",
            "17/17 [==============================] - 0s 4ms/step - loss: 0.0285 - tanh_accuracy: 1.0000 - val_loss: 0.0264 - val_tanh_accuracy: 1.0000\n",
            "Epoch 39/100\n",
            "17/17 [==============================] - 0s 8ms/step - loss: 0.0272 - tanh_accuracy: 1.0000 - val_loss: 0.0252 - val_tanh_accuracy: 1.0000\n",
            "Epoch 40/100\n",
            "17/17 [==============================] - 0s 4ms/step - loss: 0.0260 - tanh_accuracy: 1.0000 - val_loss: 0.0241 - val_tanh_accuracy: 1.0000\n",
            "Epoch 41/100\n",
            "17/17 [==============================] - 0s 4ms/step - loss: 0.0249 - tanh_accuracy: 1.0000 - val_loss: 0.0231 - val_tanh_accuracy: 1.0000\n",
            "Epoch 42/100\n",
            "17/17 [==============================] - 0s 4ms/step - loss: 0.0238 - tanh_accuracy: 1.0000 - val_loss: 0.0221 - val_tanh_accuracy: 1.0000\n",
            "Epoch 43/100\n",
            "17/17 [==============================] - 0s 4ms/step - loss: 0.0229 - tanh_accuracy: 1.0000 - val_loss: 0.0212 - val_tanh_accuracy: 1.0000\n",
            "Epoch 44/100\n",
            "17/17 [==============================] - 0s 4ms/step - loss: 0.0220 - tanh_accuracy: 1.0000 - val_loss: 0.0204 - val_tanh_accuracy: 1.0000\n",
            "Epoch 45/100\n",
            "17/17 [==============================] - 0s 4ms/step - loss: 0.0211 - tanh_accuracy: 1.0000 - val_loss: 0.0196 - val_tanh_accuracy: 1.0000\n",
            "Epoch 46/100\n",
            "17/17 [==============================] - 0s 4ms/step - loss: 0.0203 - tanh_accuracy: 1.0000 - val_loss: 0.0189 - val_tanh_accuracy: 1.0000\n",
            "Epoch 47/100\n",
            "17/17 [==============================] - 0s 4ms/step - loss: 0.0196 - tanh_accuracy: 1.0000 - val_loss: 0.0182 - val_tanh_accuracy: 1.0000\n",
            "Epoch 48/100\n",
            "17/17 [==============================] - 0s 4ms/step - loss: 0.0189 - tanh_accuracy: 1.0000 - val_loss: 0.0175 - val_tanh_accuracy: 1.0000\n",
            "Epoch 49/100\n",
            "17/17 [==============================] - 0s 5ms/step - loss: 0.0183 - tanh_accuracy: 1.0000 - val_loss: 0.0169 - val_tanh_accuracy: 1.0000\n",
            "Epoch 50/100\n",
            "17/17 [==============================] - 0s 4ms/step - loss: 0.0177 - tanh_accuracy: 1.0000 - val_loss: 0.0164 - val_tanh_accuracy: 1.0000\n",
            "Epoch 51/100\n",
            "17/17 [==============================] - 0s 4ms/step - loss: 0.0171 - tanh_accuracy: 1.0000 - val_loss: 0.0158 - val_tanh_accuracy: 1.0000\n",
            "Epoch 52/100\n",
            "17/17 [==============================] - 0s 4ms/step - loss: 0.0165 - tanh_accuracy: 1.0000 - val_loss: 0.0153 - val_tanh_accuracy: 1.0000\n",
            "Epoch 53/100\n",
            "17/17 [==============================] - 0s 4ms/step - loss: 0.0160 - tanh_accuracy: 1.0000 - val_loss: 0.0149 - val_tanh_accuracy: 1.0000\n",
            "Epoch 54/100\n",
            "17/17 [==============================] - 0s 4ms/step - loss: 0.0155 - tanh_accuracy: 1.0000 - val_loss: 0.0144 - val_tanh_accuracy: 1.0000\n",
            "Epoch 55/100\n",
            "17/17 [==============================] - 0s 4ms/step - loss: 0.0151 - tanh_accuracy: 1.0000 - val_loss: 0.0140 - val_tanh_accuracy: 1.0000\n",
            "Epoch 56/100\n",
            "17/17 [==============================] - 0s 4ms/step - loss: 0.0147 - tanh_accuracy: 1.0000 - val_loss: 0.0136 - val_tanh_accuracy: 1.0000\n",
            "Epoch 57/100\n",
            "17/17 [==============================] - 0s 4ms/step - loss: 0.0142 - tanh_accuracy: 1.0000 - val_loss: 0.0132 - val_tanh_accuracy: 1.0000\n",
            "Epoch 58/100\n",
            "17/17 [==============================] - 0s 4ms/step - loss: 0.0139 - tanh_accuracy: 1.0000 - val_loss: 0.0128 - val_tanh_accuracy: 1.0000\n",
            "Epoch 59/100\n",
            "17/17 [==============================] - 0s 4ms/step - loss: 0.0135 - tanh_accuracy: 1.0000 - val_loss: 0.0125 - val_tanh_accuracy: 1.0000\n",
            "Epoch 60/100\n",
            "17/17 [==============================] - 0s 4ms/step - loss: 0.0131 - tanh_accuracy: 1.0000 - val_loss: 0.0122 - val_tanh_accuracy: 1.0000\n",
            "Epoch 61/100\n",
            "17/17 [==============================] - 0s 4ms/step - loss: 0.0128 - tanh_accuracy: 1.0000 - val_loss: 0.0118 - val_tanh_accuracy: 1.0000\n",
            "Epoch 62/100\n",
            "17/17 [==============================] - 0s 4ms/step - loss: 0.0125 - tanh_accuracy: 1.0000 - val_loss: 0.0115 - val_tanh_accuracy: 1.0000\n",
            "Epoch 63/100\n",
            "17/17 [==============================] - 0s 4ms/step - loss: 0.0122 - tanh_accuracy: 1.0000 - val_loss: 0.0112 - val_tanh_accuracy: 1.0000\n",
            "Epoch 64/100\n",
            "17/17 [==============================] - 0s 4ms/step - loss: 0.0119 - tanh_accuracy: 1.0000 - val_loss: 0.0110 - val_tanh_accuracy: 1.0000\n",
            "Epoch 65/100\n",
            "17/17 [==============================] - 0s 4ms/step - loss: 0.0116 - tanh_accuracy: 1.0000 - val_loss: 0.0107 - val_tanh_accuracy: 1.0000\n",
            "Epoch 66/100\n",
            "17/17 [==============================] - 0s 4ms/step - loss: 0.0113 - tanh_accuracy: 1.0000 - val_loss: 0.0105 - val_tanh_accuracy: 1.0000\n",
            "Epoch 67/100\n",
            "17/17 [==============================] - 0s 4ms/step - loss: 0.0111 - tanh_accuracy: 1.0000 - val_loss: 0.0102 - val_tanh_accuracy: 1.0000\n",
            "Epoch 68/100\n",
            "17/17 [==============================] - 0s 4ms/step - loss: 0.0108 - tanh_accuracy: 1.0000 - val_loss: 0.0100 - val_tanh_accuracy: 1.0000\n",
            "Epoch 69/100\n",
            "17/17 [==============================] - 0s 4ms/step - loss: 0.0106 - tanh_accuracy: 1.0000 - val_loss: 0.0098 - val_tanh_accuracy: 1.0000\n",
            "Epoch 70/100\n",
            "17/17 [==============================] - 0s 4ms/step - loss: 0.0103 - tanh_accuracy: 1.0000 - val_loss: 0.0095 - val_tanh_accuracy: 1.0000\n",
            "Epoch 71/100\n",
            "17/17 [==============================] - 0s 4ms/step - loss: 0.0101 - tanh_accuracy: 1.0000 - val_loss: 0.0093 - val_tanh_accuracy: 1.0000\n",
            "Epoch 72/100\n",
            "17/17 [==============================] - 0s 4ms/step - loss: 0.0099 - tanh_accuracy: 1.0000 - val_loss: 0.0091 - val_tanh_accuracy: 1.0000\n",
            "Epoch 73/100\n",
            "17/17 [==============================] - 0s 4ms/step - loss: 0.0097 - tanh_accuracy: 1.0000 - val_loss: 0.0090 - val_tanh_accuracy: 1.0000\n",
            "Epoch 74/100\n",
            "17/17 [==============================] - 0s 4ms/step - loss: 0.0095 - tanh_accuracy: 1.0000 - val_loss: 0.0088 - val_tanh_accuracy: 1.0000\n",
            "Epoch 75/100\n",
            "17/17 [==============================] - 0s 4ms/step - loss: 0.0093 - tanh_accuracy: 1.0000 - val_loss: 0.0086 - val_tanh_accuracy: 1.0000\n",
            "Epoch 76/100\n",
            "17/17 [==============================] - 0s 4ms/step - loss: 0.0091 - tanh_accuracy: 1.0000 - val_loss: 0.0084 - val_tanh_accuracy: 1.0000\n",
            "Epoch 77/100\n",
            "17/17 [==============================] - 0s 6ms/step - loss: 0.0090 - tanh_accuracy: 1.0000 - val_loss: 0.0083 - val_tanh_accuracy: 1.0000\n",
            "Epoch 78/100\n",
            "17/17 [==============================] - 0s 4ms/step - loss: 0.0088 - tanh_accuracy: 1.0000 - val_loss: 0.0081 - val_tanh_accuracy: 1.0000\n",
            "Epoch 79/100\n",
            "17/17 [==============================] - 0s 4ms/step - loss: 0.0086 - tanh_accuracy: 1.0000 - val_loss: 0.0079 - val_tanh_accuracy: 1.0000\n",
            "Epoch 80/100\n",
            "17/17 [==============================] - 0s 4ms/step - loss: 0.0085 - tanh_accuracy: 1.0000 - val_loss: 0.0078 - val_tanh_accuracy: 1.0000\n",
            "Epoch 81/100\n",
            "17/17 [==============================] - 0s 4ms/step - loss: 0.0083 - tanh_accuracy: 1.0000 - val_loss: 0.0077 - val_tanh_accuracy: 1.0000\n",
            "Epoch 82/100\n",
            "17/17 [==============================] - 0s 4ms/step - loss: 0.0082 - tanh_accuracy: 1.0000 - val_loss: 0.0075 - val_tanh_accuracy: 1.0000\n",
            "Epoch 83/100\n",
            "17/17 [==============================] - 0s 4ms/step - loss: 0.0080 - tanh_accuracy: 1.0000 - val_loss: 0.0074 - val_tanh_accuracy: 1.0000\n",
            "Epoch 84/100\n",
            "17/17 [==============================] - 0s 4ms/step - loss: 0.0079 - tanh_accuracy: 1.0000 - val_loss: 0.0073 - val_tanh_accuracy: 1.0000\n",
            "Epoch 85/100\n",
            "17/17 [==============================] - 0s 5ms/step - loss: 0.0078 - tanh_accuracy: 1.0000 - val_loss: 0.0071 - val_tanh_accuracy: 1.0000\n",
            "Epoch 86/100\n",
            "17/17 [==============================] - 0s 4ms/step - loss: 0.0076 - tanh_accuracy: 1.0000 - val_loss: 0.0070 - val_tanh_accuracy: 1.0000\n",
            "Epoch 87/100\n",
            "17/17 [==============================] - 0s 4ms/step - loss: 0.0075 - tanh_accuracy: 1.0000 - val_loss: 0.0069 - val_tanh_accuracy: 1.0000\n",
            "Epoch 88/100\n",
            "17/17 [==============================] - 0s 4ms/step - loss: 0.0074 - tanh_accuracy: 1.0000 - val_loss: 0.0068 - val_tanh_accuracy: 1.0000\n",
            "Epoch 89/100\n",
            "17/17 [==============================] - 0s 7ms/step - loss: 0.0073 - tanh_accuracy: 1.0000 - val_loss: 0.0067 - val_tanh_accuracy: 1.0000\n",
            "Epoch 90/100\n",
            "17/17 [==============================] - 0s 4ms/step - loss: 0.0071 - tanh_accuracy: 1.0000 - val_loss: 0.0066 - val_tanh_accuracy: 1.0000\n",
            "Epoch 91/100\n",
            "17/17 [==============================] - 0s 4ms/step - loss: 0.0070 - tanh_accuracy: 1.0000 - val_loss: 0.0065 - val_tanh_accuracy: 1.0000\n",
            "Epoch 92/100\n",
            "17/17 [==============================] - 0s 4ms/step - loss: 0.0069 - tanh_accuracy: 1.0000 - val_loss: 0.0064 - val_tanh_accuracy: 1.0000\n",
            "Epoch 93/100\n",
            "17/17 [==============================] - 0s 4ms/step - loss: 0.0068 - tanh_accuracy: 1.0000 - val_loss: 0.0063 - val_tanh_accuracy: 1.0000\n",
            "Epoch 94/100\n",
            "17/17 [==============================] - 0s 4ms/step - loss: 0.0067 - tanh_accuracy: 1.0000 - val_loss: 0.0062 - val_tanh_accuracy: 1.0000\n",
            "Epoch 95/100\n",
            "17/17 [==============================] - 0s 4ms/step - loss: 0.0066 - tanh_accuracy: 1.0000 - val_loss: 0.0061 - val_tanh_accuracy: 1.0000\n",
            "Epoch 96/100\n",
            "17/17 [==============================] - 0s 4ms/step - loss: 0.0065 - tanh_accuracy: 1.0000 - val_loss: 0.0060 - val_tanh_accuracy: 1.0000\n",
            "Epoch 97/100\n",
            "17/17 [==============================] - 0s 4ms/step - loss: 0.0064 - tanh_accuracy: 1.0000 - val_loss: 0.0059 - val_tanh_accuracy: 1.0000\n",
            "Epoch 98/100\n",
            "17/17 [==============================] - 0s 4ms/step - loss: 0.0063 - tanh_accuracy: 1.0000 - val_loss: 0.0058 - val_tanh_accuracy: 1.0000\n",
            "Epoch 99/100\n",
            "17/17 [==============================] - 0s 4ms/step - loss: 0.0062 - tanh_accuracy: 1.0000 - val_loss: 0.0057 - val_tanh_accuracy: 1.0000\n",
            "Epoch 100/100\n",
            "17/17 [==============================] - 0s 4ms/step - loss: 0.0061 - tanh_accuracy: 1.0000 - val_loss: 0.0056 - val_tanh_accuracy: 1.0000\n"
          ]
        }
      ]
    },
    {
      "cell_type": "code",
      "metadata": {
        "id": "7ZFKMP0Unk9V",
        "colab": {
          "base_uri": "https://localhost:8080/",
          "height": 279
        },
        "outputId": "b36c2883-d3b7-44a8-b49c-dcae41d88198"
      },
      "source": [
        "import matplotlib.pyplot as plt\n",
        "\n",
        "# 学習結果（損失）のグラフを描画\n",
        "train_loss = hist.history['loss']\n",
        "valid_loss = hist.history['val_loss']\n",
        "epochs = len(train_loss)\n",
        "plt.plot(range(epochs), train_loss, marker='.', label='loss (Training data)')\n",
        "plt.plot(range(epochs), valid_loss, marker='.', label='loss (Validation data)')\n",
        "plt.legend(loc='best')\n",
        "plt.grid()\n",
        "plt.xlabel('epoch')\n",
        "plt.ylabel('loss')\n",
        "plt.show()"
      ],
      "execution_count": 10,
      "outputs": [
        {
          "output_type": "display_data",
          "data": {
            "image/png": "[encoded data removed]",
            "text/plain": [
              "<Figure size 432x288 with 1 Axes>"
            ]
          },
          "metadata": {
            "needs_background": "light"
          }
        }
      ]
    }
  ]
}